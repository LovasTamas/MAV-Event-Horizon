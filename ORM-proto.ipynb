{
 "cells": [
  {
   "cell_type": "code",
   "execution_count": 1,
   "metadata": {},
   "outputs": [],
   "source": [
    "from sqlalchemy import create_engine\n",
    "engine = create_engine(\"sqlite+pysqlite:///:memory:\", echo=True, future=True)"
   ]
  },
  {
   "cell_type": "code",
   "execution_count": 5,
   "metadata": {},
   "outputs": [
    {
     "name": "stdout",
     "output_type": "stream",
     "text": [
      "2022-11-09 17:13:15,053 INFO sqlalchemy.engine.Engine BEGIN (implicit)\n",
      "2022-11-09 17:13:15,055 INFO sqlalchemy.engine.Engine PRAGMA main.table_info(\"RSS_events_MAV\")\n",
      "2022-11-09 17:13:15,057 INFO sqlalchemy.engine.Engine [raw sql] ()\n",
      "2022-11-09 17:13:15,060 INFO sqlalchemy.engine.Engine PRAGMA main.table_info(\"RAW_events_MAV\")\n",
      "2022-11-09 17:13:15,062 INFO sqlalchemy.engine.Engine [raw sql] ()\n",
      "2022-11-09 17:13:15,063 INFO sqlalchemy.engine.Engine COMMIT\n"
     ]
    }
   ],
   "source": [
    "from parser.MAV.models import DeclarativeBase\n",
    "\n",
    "DeclarativeBase.metadata.create_all(engine)"
   ]
  },
  {
   "cell_type": "code",
   "execution_count": 3,
   "metadata": {},
   "outputs": [
    {
     "name": "stdout",
     "output_type": "stream",
     "text": [
      "2022-11-09 16:10:31\n"
     ]
    }
   ],
   "source": [
    "from feed_handler.feed_consumer import FeedConsumer\n",
    "from datetime import datetime\n",
    "from time import mktime\n",
    "\n",
    "Feed = FeedConsumer()\n",
    "d = Feed.fetch()\n",
    "time_struct = d.entries[0]['published_parsed']\n",
    "date = datetime.fromtimestamp(mktime(time_struct))\n",
    "print(date)"
   ]
  },
  {
   "cell_type": "code",
   "execution_count": 4,
   "metadata": {},
   "outputs": [
    {
     "name": "stdout",
     "output_type": "stream",
     "text": [
      "2022-11-09 17:12:44,866 INFO sqlalchemy.engine.Engine BEGIN (implicit)\n",
      "2022-11-09 17:12:44,872 INFO sqlalchemy.engine.Engine INSERT INTO \"RSS_events_MAV\" (uuid, id, last_modification, update_uuid, title) VALUES (?, ?, ?, ?, ?)\n",
      "2022-11-09 17:12:44,874 INFO sqlalchemy.engine.Engine [generated in 0.00237s] (<memory at 0x0000013ED73D9900>, '113333', '2022-11-09', None, 'Kimarad két délutáni S210-es vonat')\n",
      "2022-11-09 17:12:44,878 INFO sqlalchemy.engine.Engine INSERT INTO \"RAW_events_MAV\" (event_uuid, event_dict) VALUES (?, ?)\n",
      "2022-11-09 17:12:44,880 INFO sqlalchemy.engine.Engine [generated in 0.00164s] (None, '{\"title\": \"Kimarad k\\\\u00e9t d\\\\u00e9lut\\\\u00e1ni S210-es vonat\", \"title_detail\": {\"type\": \"text/plain\", \"language\": \"hu\", \"base\": \"https://www.mavcs ... (568 characters truncated) ... : \"M\\\\u00c1V.hu szerkeszt\\\\u0151s\\\\u00e9g\", \"author_detail\": {\"name\": \"M\\\\u00c1V.hu szerkeszt\\\\u0151s\\\\u00e9g\"}, \"id\": \"113333\", \"guidislink\": false}')\n",
      "2022-11-09 17:12:44,882 INFO sqlalchemy.engine.Engine COMMIT\n"
     ]
    }
   ],
   "source": [
    "from sqlalchemy.orm import Session\n",
    "from parser.MAV.feed_parser import FeedParser\n",
    "\n",
    "with Session(engine) as session:\n",
    "    entry = FeedParser.parse_entry(d.entries[0])\n",
    "    entry_dump = FeedParser.dump_entry(d.entries[0],entry.uuid)\n",
    "    session.add_all([entry,entry_dump])\n",
    "    session.commit()"
   ]
  },
  {
   "cell_type": "code",
   "execution_count": 8,
   "metadata": {},
   "outputs": [
    {
     "name": "stdout",
     "output_type": "stream",
     "text": [
      "2022-11-09 17:18:58,809 INFO sqlalchemy.engine.Engine BEGIN (implicit)\n",
      "2022-11-09 17:18:58,812 INFO sqlalchemy.engine.Engine SELECT \"RSS_events_MAV\".uuid AS \"RSS_events_MAV_uuid\", \"RSS_events_MAV\".id AS \"RSS_events_MAV_id\", \"RSS_events_MAV\".last_modification AS \"RSS_events_MAV_last_modification\", \"RSS_events_MAV\".update_uuid AS \"RSS_events_MAV_update_uuid\", \"RSS_events_MAV\".title AS \"RSS_events_MAV_title\" \n",
      "FROM \"RSS_events_MAV\"\n",
      " LIMIT ? OFFSET ?\n",
      "2022-11-09 17:18:58,813 INFO sqlalchemy.engine.Engine [cached since 13.8s ago] (1, 0)\n",
      "113333\n",
      "2022-11-09 17:18:58,820 INFO sqlalchemy.engine.Engine ROLLBACK\n"
     ]
    }
   ],
   "source": [
    "from sqlalchemy import select\n",
    "from parser.MAV.models import MAVEvent\n",
    "with Session(engine) as session:\n",
    "    events = session.query(MAVEvent)\n",
    "    print(events.first().id)\n"
   ]
  }
 ],
 "metadata": {
  "kernelspec": {
   "display_name": "Python 3.10.7 ('.venv': venv)",
   "language": "python",
   "name": "python3"
  },
  "language_info": {
   "codemirror_mode": {
    "name": "ipython",
    "version": 3
   },
   "file_extension": ".py",
   "mimetype": "text/x-python",
   "name": "python",
   "nbconvert_exporter": "python",
   "pygments_lexer": "ipython3",
   "version": "3.10.7"
  },
  "orig_nbformat": 4,
  "vscode": {
   "interpreter": {
    "hash": "db664d93f5faa7121f61b288f251b24b702e36eb17bcf8d0484f3d5af0656b5f"
   }
  }
 },
 "nbformat": 4,
 "nbformat_minor": 2
}
