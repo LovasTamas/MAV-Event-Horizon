{
 "cells": [
  {
   "cell_type": "code",
   "execution_count": 4,
   "metadata": {},
   "outputs": [],
   "source": [
    "import feedparser\n",
    "d:feedparser.FeedParserDict = feedparser.parse(r'https://www.mavcsoport.hu/mavinform/rss.xml')\n",
    "if d.status != 200:\n",
    "    raise NotImplementedError(\"Handle if feed is down!\")"
   ]
  },
  {
   "cell_type": "code",
   "execution_count": 5,
   "metadata": {},
   "outputs": [
    {
     "name": "stdout",
     "output_type": "stream",
     "text": [
      "MÁVINFORM hírek 10\n",
      "{'title': 'A Budapest-Hatvan-Miskolc vonalon  estére helyreáll a vonatforgalom', 'title_detail': {'type': 'text/plain', 'language': 'hu', 'base': 'https://www.mavcsoport.hu/mav-csoport/hirek', 'value': 'A Budapest-Hatvan-Miskolc vonalon  estére helyreáll a vonatforgalom'}, 'links': [{'rel': 'alternate', 'type': 'text/html', 'href': 'https://www.mavcsoport.hu/node/113141'}], 'link': 'https://www.mavcsoport.hu/node/113141', 'summary': '', 'summary_detail': {'type': 'text/html', 'language': 'hu', 'base': 'https://www.mavcsoport.hu/mav-csoport/hirek', 'value': ''}, 'published': 'Sun, 06 Nov 2022 15:48:55 +0100', 'published_parsed': time.struct_time(tm_year=2022, tm_mon=11, tm_mday=6, tm_hour=14, tm_min=48, tm_sec=55, tm_wday=6, tm_yday=310, tm_isdst=0), 'authors': [{'name': 'MÁV.hu szerkesztőség'}], 'author': 'MÁV.hu szerkesztőség', 'author_detail': {'name': 'MÁV.hu szerkesztőség'}, 'id': '113141', 'guidislink': False}\n"
     ]
    }
   ],
   "source": [
    "print(d.feed.description,len(d.entries))\n",
    "print(d.entries[0])"
   ]
  },
  {
   "cell_type": "code",
   "execution_count": 9,
   "metadata": {},
   "outputs": [],
   "source": [
    "link = d.entries[0]['link']\n",
    "import requests\n",
    "\n",
    "res = requests.get(link)\n",
    "if res.status_code != requests.codes.OK :\n",
    "    raise ValueError(\"Response Failed!\")"
   ]
  },
  {
   "cell_type": "code",
   "execution_count": 39,
   "metadata": {},
   "outputs": [
    {
     "name": "stdout",
     "output_type": "stream",
     "text": [
      "<title>A Budapest-Hatvan-Miskolc vonalon estére helyreáll a vonatforgalom | MÁV-csoport</title>\n",
      "[<div class=\"content clearfix\">\n",
      "<div class=\"node-date\">2022. november 6. vasárnap, 12.02 / Utolsó módosítás: 2022. november 6. vasárnap, 15.48</div>\n",
      "<div class=\"field-body\">\n",
      "<div class=\"bluebox\"><em>Frissítés: </em><strong>Rákos és Pécel között </strong><strong>már mindkét </strong><span><strong>vágányon, zavartalanul közlekednek a vonatok,</strong> a felsővezetéki hibát megjavították. A</span><strong> Budapest–Hatvan–Miskolc vonalon fokozatosan, a kora esti órákra állhat helyre a menetrendszerű vonatközlekedés. </strong></div>\n",
      "<p><strong>Az elővárosi vonatoknál a menetrendi korlátozásokat feloldották, </strong>a Keleti pályaudvarról Gödöllőre 16:05-kor induló S80-as vonat (3156) és a Gödöllőről a Keleti pályaudvarra 17:15-kor induló S80-as vonat (3173) már közlekedik. </p>\n",
      "<hr/>\n",
      "<p><em>Előzmény: </em><strong>Rákos és Pécel között </strong>csak az egyik vágányon közlekedhetnek a vonatok, felsővezetéki zárlat miatt. A<strong> Budapest<span>–</span>Hatvan<span>–</span>Miskolc vonalon 20-40 perccel megnő a menetidő. Az elővárosi vonatoknál járatkimaradásokra is számítani kell.</strong></p>\n",
      "<p>A késések csökkentése érdekében a Keleti pályaudvarról Gödöllőre  <strong>minden óra 05-kor és vissza Gödöllőről minden óra 15-kor induló S80-as vonatok nem közlekednek. </strong>Az utasok az Agria InterRégió vonatokkal utazhatnak.  </p>\n",
      "<p>MÁVINFORM</p>\n",
      "</div>\n",
      "</div>]\n"
     ]
    }
   ],
   "source": [
    "from bs4 import BeautifulSoup\n",
    "\n",
    "parsed = BeautifulSoup(res.text,'html.parser')\n",
    "print(parsed.title)\n",
    "\n",
    "print(parsed.select(\"#block-system-main .content.clearfix\"))\n",
    "#print([x for x in parsed.select(\"#block-system-main .content.clearfix\")[0].children ])\n",
    "#print([x for x in parsed.select(\"#block-system-main .content.clearfix\")[0].stripped_strings])\n",
    "\n",
    "content = parsed.select(\"#block-system-main .content.clearfix\")[0]"
   ]
  },
  {
   "cell_type": "code",
   "execution_count": 50,
   "metadata": {},
   "outputs": [
    {
     "data": {
      "text/plain": [
       "<div class=\"field-body\">\n",
       "<div class=\"bluebox\"><em>Frissítés: </em><strong>Rákos és Pécel között </strong><strong>már mindkét </strong><span><strong>vágányon, zavartalanul közlekednek a vonatok,</strong> a felsővezetéki hibát megjavították. A</span><strong> Budapest–Hatvan–Miskolc vonalon fokozatosan, a kora esti órákra állhat helyre a menetrendszerű vonatközlekedés. </strong></div>\n",
       "<p><strong>Az elővárosi vonatoknál a menetrendi korlátozásokat feloldották, </strong>a Keleti pályaudvarról Gödöllőre 16:05-kor induló S80-as vonat (3156) és a Gödöllőről a Keleti pályaudvarra 17:15-kor induló S80-as vonat (3173) már közlekedik. </p>\n",
       "<hr/>\n",
       "<p><em>Előzmény: </em><strong>Rákos és Pécel között </strong>csak az egyik vágányon közlekedhetnek a vonatok, felsővezetéki zárlat miatt. A<strong> Budapest<span>–</span>Hatvan<span>–</span>Miskolc vonalon 20-40 perccel megnő a menetidő. Az elővárosi vonatoknál járatkimaradásokra is számítani kell.</strong></p>\n",
       "<p>A késések csökkentése érdekében a Keleti pályaudvarról Gödöllőre  <strong>minden óra 05-kor és vissza Gödöllőről minden óra 15-kor induló S80-as vonatok nem közlekednek. </strong>Az utasok az Agria InterRégió vonatokkal utazhatnak.  </p>\n",
       "<p>MÁVINFORM</p>\n",
       "</div>"
      ]
     },
     "execution_count": 50,
     "metadata": {},
     "output_type": "execute_result"
    }
   ],
   "source": [
    "parsed.select(\".field-body\")[0]"
   ]
  }
 ],
 "metadata": {
  "kernelspec": {
   "display_name": "Python 3.11.0 ('.venv': venv)",
   "language": "python",
   "name": "python3"
  },
  "language_info": {
   "codemirror_mode": {
    "name": "ipython",
    "version": 3
   },
   "file_extension": ".py",
   "mimetype": "text/x-python",
   "name": "python",
   "nbconvert_exporter": "python",
   "pygments_lexer": "ipython3",
   "version": "3.10.7"
  },
  "orig_nbformat": 4,
  "vscode": {
   "interpreter": {
    "hash": "db664d93f5faa7121f61b288f251b24b702e36eb17bcf8d0484f3d5af0656b5f"
   }
  }
 },
 "nbformat": 4,
 "nbformat_minor": 2
}
