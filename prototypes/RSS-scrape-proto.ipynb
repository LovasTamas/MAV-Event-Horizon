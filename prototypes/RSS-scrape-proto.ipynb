{
 "cells": [
  {
   "cell_type": "code",
   "execution_count": 2,
   "metadata": {},
   "outputs": [],
   "source": [
    "import feedparser\n",
    "d:feedparser.FeedParserDict = feedparser.parse(r'https://www.mavcsoport.hu/mavinform/rss.xml')\n",
    "if d.status != 200:\n",
    "    raise NotImplementedError(\"Handle if feed is down!\")"
   ]
  },
  {
   "cell_type": "code",
   "execution_count": 3,
   "metadata": {},
   "outputs": [
    {
     "name": "stdout",
     "output_type": "stream",
     "text": [
      "MÁVINFORM hírek 10\n",
      "{'title': 'A Zemplén InterCity Szerencstől késve közlekedik', 'title_detail': {'type': 'text/plain', 'language': 'hu', 'base': 'https://www.mavcsoport.hu/mav-csoport/hirek', 'value': 'A Zemplén InterCity Szerencstől késve közlekedik'}, 'links': [{'rel': 'alternate', 'type': 'text/html', 'href': 'https://www.mavcsoport.hu/node/113143'}], 'link': 'https://www.mavcsoport.hu/node/113143', 'summary': '', 'summary_detail': {'type': 'text/html', 'language': 'hu', 'base': 'https://www.mavcsoport.hu/mav-csoport/hirek', 'value': ''}, 'published': 'Sun, 06 Nov 2022 19:39:28 +0100', 'published_parsed': time.struct_time(tm_year=2022, tm_mon=11, tm_mday=6, tm_hour=18, tm_min=39, tm_sec=28, tm_wday=6, tm_yday=310, tm_isdst=0), 'authors': [{'name': 'MÁV.hu szerkesztőség'}], 'author': 'MÁV.hu szerkesztőség', 'author_detail': {'name': 'MÁV.hu szerkesztőség'}, 'id': '113143', 'guidislink': False}\n"
     ]
    }
   ],
   "source": [
    "print(d.feed.description,len(d.entries))\n",
    "print(d.entries[0])"
   ]
  },
  {
   "cell_type": "code",
   "execution_count": 4,
   "metadata": {},
   "outputs": [],
   "source": [
    "link = d.entries[0]['link']\n",
    "import requests\n",
    "\n",
    "res = requests.get(link)\n",
    "if res.status_code != requests.codes.OK :\n",
    "    raise ValueError(\"Response Failed!\")"
   ]
  },
  {
   "cell_type": "code",
   "execution_count": 5,
   "metadata": {},
   "outputs": [
    {
     "name": "stdout",
     "output_type": "stream",
     "text": [
      "<title>A Zemplén InterCity Szerencstől késve közlekedik | MÁV-csoport</title>\n",
      "[<div class=\"content clearfix\">\n",
      "<div class=\"node-date\">2022. november 6. vasárnap, 19.39</div>\n",
      "<div class=\"field-body\">\n",
      "<p>A Miskolc-Tiszai pályaudvarról Sátoraljaújhelyre 18:40-kor elindult <strong>Zemplén InterCity (526)</strong> mozdonya Szerencs állomáson meghibásodott, ezért <strong>várhatóan 40 perc késéssel indul tovább. </strong></p>\n",
      "<p>MÁVINFORM</p>\n",
      "</div>\n",
      "</div>]\n"
     ]
    }
   ],
   "source": [
    "from bs4 import BeautifulSoup\n",
    "\n",
    "parsed = BeautifulSoup(res.text,'html.parser')\n",
    "print(parsed.title)\n",
    "\n",
    "print(parsed.select(\"#block-system-main .content.clearfix\"))\n",
    "#print([x for x in parsed.select(\"#block-system-main .content.clearfix\")[0].children ])\n",
    "#print([x for x in parsed.select(\"#block-system-main .content.clearfix\")[0].stripped_strings])\n",
    "\n",
    "content = parsed.select(\"#block-system-main .content.clearfix\")[0]"
   ]
  },
  {
   "cell_type": "code",
   "execution_count": 6,
   "metadata": {},
   "outputs": [
    {
     "name": "stdout",
     "output_type": "stream",
     "text": [
      "A Miskolc-Tiszai pályaudvarról Sátoraljaújhelyre 18:40-kor elindult Zemplén InterCity (526) mozdonya Szerencs állomáson meghibásodott, ezért várhatóan 40 perc késéssel indul tovább. MÁVINFORM\n"
     ]
    }
   ],
   "source": [
    "k = parsed.select(\".field-body\")[0]\n",
    "print(' '.join(k.stripped_strings))"
   ]
  },
  {
   "cell_type": "code",
   "execution_count": 7,
   "metadata": {},
   "outputs": [],
   "source": [
    "import importlib\n",
    "import os, sys; sys.path.append(os.path.dirname(os.path.realpath('../parser')))\n",
    "from parser.MAV.webnode_parser import WebNodeParser"
   ]
  },
  {
   "cell_type": "code",
   "execution_count": 8,
   "metadata": {},
   "outputs": [
    {
     "name": "stdout",
     "output_type": "stream",
     "text": [
      "A Miskolc-Tiszai pályaudvarról Sátoraljaújhelyre 1\n",
      "Frissítés: Rákos és Pécel között már mindkét vágán\n",
      "A Vámosgyörkről Szolnokra 5:22-kor elindult személ\n",
      "Frissítés: Villány és Áta között már közlekednek a\n",
      "Frissítés: Városlőd-Kislőd állomás és Szentgál köz\n",
      "A Szegedről Békéscsabára 16:28-kor elindult 7706-o\n",
      "A Pécsről a Keleti pályaudvarra tartó 815-ös számú\n",
      "Frissítés: Taktaharkány és Hernádnémeti-Bőcs állom\n",
      "Frissítés: Az esztergomi vonal Óbuda–Solymár közöt\n",
      "Frissítés: A Déli pályaudvarról Tapolcára 13:05-ko\n"
     ]
    }
   ],
   "source": [
    "for e in d.entries:\n",
    "    print(WebNodeParser.str_form_entry(e)[0:50])\n"
   ]
  },
  {
   "cell_type": "code",
   "execution_count": 22,
   "metadata": {},
   "outputs": [
    {
     "name": "stdout",
     "output_type": "stream",
     "text": [
      "W/\"1667761362-1\"\n",
      "304\n"
     ]
    }
   ],
   "source": [
    "#check if etag is enabled\n",
    "last_etag = d2.etag if d2 is not None else d.etag\n",
    "d2:feedparser.FeedParserDict = feedparser.parse(r'https://www.mavcsoport.hu/mavinform/rss.xml',etag=last_etag)\n",
    "print(d2.etag)\n",
    "print(d2.status)\n",
    "#etag is working"
   ]
  }
 ],
 "metadata": {
  "kernelspec": {
   "display_name": "Python 3.11.0 ('.venv': venv)",
   "language": "python",
   "name": "python3"
  },
  "language_info": {
   "codemirror_mode": {
    "name": "ipython",
    "version": 3
   },
   "file_extension": ".py",
   "mimetype": "text/x-python",
   "name": "python",
   "nbconvert_exporter": "python",
   "pygments_lexer": "ipython3",
   "version": "3.10.7"
  },
  "orig_nbformat": 4,
  "vscode": {
   "interpreter": {
    "hash": "db664d93f5faa7121f61b288f251b24b702e36eb17bcf8d0484f3d5af0656b5f"
   }
  }
 },
 "nbformat": 4,
 "nbformat_minor": 2
}
