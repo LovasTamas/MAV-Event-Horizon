{
 "cells": [
  {
   "cell_type": "code",
   "execution_count": 1,
   "metadata": {},
   "outputs": [],
   "source": [
    "import feedparser\n",
    "d = feedparser.parse(r'https://www.mavcsoport.hu/mavinform/rss.xml')"
   ]
  },
  {
   "cell_type": "code",
   "execution_count": 7,
   "metadata": {},
   "outputs": [
    {
     "name": "stdout",
     "output_type": "stream",
     "text": [
      "MÁVINFORM hírek 10\n",
      "{'title': 'A ceglédi vonalon helyreállhat a menetrend', 'title_detail': {'type': 'text/plain', 'language': 'hu', 'base': 'https://www.mavcsoport.hu/mav-csoport/hirek', 'value': 'A ceglédi vonalon helyreállhat a menetrend'}, 'links': [{'rel': 'alternate', 'type': 'text/html', 'href': 'https://www.mavcsoport.hu/node/113101'}], 'link': 'https://www.mavcsoport.hu/node/113101', 'summary': '', 'summary_detail': {'type': 'text/html', 'language': 'hu', 'base': 'https://www.mavcsoport.hu/mav-csoport/hirek', 'value': ''}, 'published': 'Fri, 04 Nov 2022 16:25:21 +0100', 'published_parsed': time.struct_time(tm_year=2022, tm_mon=11, tm_mday=4, tm_hour=15, tm_min=25, tm_sec=21, tm_wday=4, tm_yday=308, tm_isdst=0), 'authors': [{'name': 'MÁV.hu szerkesztőség'}], 'author': 'MÁV.hu szerkesztőség', 'author_detail': {'name': 'MÁV.hu szerkesztőség'}, 'id': '113101', 'guidislink': False}\n"
     ]
    }
   ],
   "source": [
    "print(d.feed.description,len(d.entries))\n",
    "print(d.entries[0])"
   ]
  }
 ],
 "metadata": {
  "kernelspec": {
   "display_name": "Python 3.11.0 ('.venv': venv)",
   "language": "python",
   "name": "python3"
  },
  "language_info": {
   "codemirror_mode": {
    "name": "ipython",
    "version": 3
   },
   "file_extension": ".py",
   "mimetype": "text/x-python",
   "name": "python",
   "nbconvert_exporter": "python",
   "pygments_lexer": "ipython3",
   "version": "3.10.7"
  },
  "orig_nbformat": 4,
  "vscode": {
   "interpreter": {
    "hash": "db664d93f5faa7121f61b288f251b24b702e36eb17bcf8d0484f3d5af0656b5f"
   }
  }
 },
 "nbformat": 4,
 "nbformat_minor": 2
}
