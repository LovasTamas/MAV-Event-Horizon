{
 "cells": [
  {
   "cell_type": "code",
   "execution_count": 22,
   "metadata": {},
   "outputs": [],
   "source": [
    "from abc import ABC, abstractclassmethod\n",
    "from typing_extensions import override\n",
    "\n",
    "\n",
    "class A(ABC):\n",
    "    a = 10\n",
    "\n",
    "    def t(self):\n",
    "        self.a += 0\n",
    "\n",
    "    @abstractclassmethod\n",
    "    def p(self):\n",
    "        ...\n",
    "\n",
    "\n",
    "class B(A):\n",
    "    b = 2\n",
    "\n",
    "    @abstractclassmethod\n",
    "    def q(self):\n",
    "        ...\n",
    "\n",
    "\n",
    "class C(B):\n",
    "    @override\n",
    "    def q(self):\n",
    "        self.b += 1\n",
    "\n",
    "    def p(self):\n",
    "        self.a -= 1\n",
    "\n",
    "\n",
    "class D(B):\n",
    "    @override\n",
    "    def q(self):\n",
    "        self.b += 1"
   ]
  },
  {
   "cell_type": "code",
   "execution_count": 18,
   "metadata": {},
   "outputs": [
    {
     "name": "stdout",
     "output_type": "stream",
     "text": [
      "<__main__.C object at 0x000001D76AC81B40>\n"
     ]
    }
   ],
   "source": [
    "c = C()\n",
    "c.t()\n",
    "c.p()\n",
    "c.q()\n",
    "print(c)"
   ]
  },
  {
   "cell_type": "code",
   "execution_count": 24,
   "metadata": {},
   "outputs": [
    {
     "name": "stdout",
     "output_type": "stream",
     "text": [
      "Can't instantiate abstract class B with abstract methods p, q\n",
      "Can't instantiate abstract class D with abstract method p\n"
     ]
    }
   ],
   "source": [
    "try:\n",
    "    b = B()\n",
    "except Exception as e:\n",
    "    print(e)\n",
    "\n",
    "try:\n",
    "    d = D()\n",
    "except Exception as e:\n",
    "    print(e)"
   ]
  },
  {
   "cell_type": "code",
   "execution_count": 5,
   "metadata": {},
   "outputs": [
    {
     "data": {
      "text/plain": [
       "('a', 'b')"
      ]
     },
     "execution_count": 5,
     "metadata": {},
     "output_type": "execute_result"
    }
   ],
   "source": [
    "from dataclasses import dataclass, field\n",
    "from typing import Dict\n",
    "\n",
    "\n",
    "@dataclass(match_args=True)\n",
    "class test:\n",
    "    a: int\n",
    "    b: float\n",
    "    c: Dict = field(init=False)\n",
    "\n",
    "\n",
    "t = test(1, 1.1)\n",
    "t.__match_args__"
   ]
  }
 ],
 "metadata": {
  "kernelspec": {
   "display_name": "Python 3.10.7 ('.venv': venv)",
   "language": "python",
   "name": "python3"
  },
  "language_info": {
   "codemirror_mode": {
    "name": "ipython",
    "version": 3
   },
   "file_extension": ".py",
   "mimetype": "text/x-python",
   "name": "python",
   "nbconvert_exporter": "python",
   "pygments_lexer": "ipython3",
   "version": "3.10.7"
  },
  "orig_nbformat": 4,
  "vscode": {
   "interpreter": {
    "hash": "db664d93f5faa7121f61b288f251b24b702e36eb17bcf8d0484f3d5af0656b5f"
   }
  }
 },
 "nbformat": 4,
 "nbformat_minor": 2
}
