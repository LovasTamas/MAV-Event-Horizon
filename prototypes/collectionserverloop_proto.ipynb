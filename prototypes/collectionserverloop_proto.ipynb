{
 "cells": [
  {
   "cell_type": "code",
   "execution_count": 1,
   "metadata": {},
   "outputs": [],
   "source": [
    "import os, sys\n",
    "sys.path.append(os.path.dirname(os.path.realpath('../src')))\n",
    "\n",
    "from src.RSS_abstracts.Feed import Feed\n",
    "from src.feed_handler.csv_storage import csvStorage"
   ]
  },
  {
   "cell_type": "code",
   "execution_count": 2,
   "metadata": {},
   "outputs": [],
   "source": [
    "store = csvStorage(\"first_collection.csv\")\n",
    "feed = Feed(storage=store,link='https://www.mavcsoport.hu/mavinform/rss.xml')"
   ]
  },
  {
   "cell_type": "code",
   "execution_count": 3,
   "metadata": {},
   "outputs": [
    {
     "name": "stdout",
     "output_type": "stream",
     "text": [
      "[RSSEntry(id='114109', title='Két lajosmizsei S21-es járat rövidebb útvonalon közlekedik', link='https://www.mavcsoport.hu/node/114109', published='Thu, 24 Nov 2022 15:01:54 +0100'), RSSEntry(id='114081', title='A Kálmán Imre EN Hegyeshalomtól késéssel közlekedik', link='https://www.mavcsoport.hu/node/114081', published='Thu, 24 Nov 2022 07:54:02 +0100'), RSSEntry(id='114079', title='Veszprém és Hajmáskér között lassabb a közlekedés', link='https://www.mavcsoport.hu/node/114079', published='Thu, 24 Nov 2022 15:11:37 +0100'), RSSEntry(id='114075', title='Kimarad egy ócsai S21-es járat', link='https://www.mavcsoport.hu/node/114075', published='Thu, 24 Nov 2022 05:35:21 +0100'), RSSEntry(id='114073', title='A Szendrő és Miskolc közötti reggeli vonat kimarad', link='https://www.mavcsoport.hu/node/114073', published='Thu, 24 Nov 2022 05:17:42 +0100'), RSSEntry(id='114071', title='Barcsról Pécsre tartó reggeli vonat Szentlőrincről késéssel indul', link='https://www.mavcsoport.hu/node/114071', published='Thu, 24 Nov 2022 05:13:15 +0100'), RSSEntry(id='114069', title='Nem közlekedő martonvásári S36-os vonatok', link='https://www.mavcsoport.hu/node/114069', published='Wed, 23 Nov 2022 20:11:19 +0100'), RSSEntry(id='114065', title='A Budapest-Hatvan-Miskolc vonalon helyreáll a menetrend', link='https://www.mavcsoport.hu/node/114065', published='Wed, 23 Nov 2022 18:10:24 +0100'), RSSEntry(id='114063', title='Csütörtökön a Nagykanizsáról Zalaegerszegre 6:08-kor induló vonat helyett pótlóbusz', link='https://www.mavcsoport.hu/node/114063', published='Wed, 23 Nov 2022 17:47:14 +0100'), RSSEntry(id='114061', title='A Budapest–Békéscsaba–Lőkösháza vonalon módosított menetrend', link='https://www.mavcsoport.hu/node/114061', published='Wed, 23 Nov 2022 16:45:05 +0100')]\n",
      "[]\n",
      "[]\n",
      "[RSSEntry(id='114115', title='A Tornanádaskáról Miskolcra tartó vonat menetideje nőtt', link='https://www.mavcsoport.hu/node/114115', published='Thu, 24 Nov 2022 16:26:17 +0100'), RSSEntry(id='114113', title='Két monori S50-es kimarad', link='https://www.mavcsoport.hu/node/114113', published='Thu, 24 Nov 2022 16:20:23 +0100')]\n",
      "[]\n",
      "[]\n",
      "[RSSEntry(id='114127', title='Biharkeresztesnél áll a forgalom', link='https://www.mavcsoport.hu/node/114127', published='Thu, 24 Nov 2022 18:06:17 +0100')]\n",
      "[RSSEntry(id='114127', title='Biharkeresztesnél áll a forgalom', link='https://www.mavcsoport.hu/node/114127', published='Thu, 24 Nov 2022 18:44:30 +0100'), RSSEntry(id='114079', title='Veszprém és Hajmáskér között megjavították a biztosítóberendezést', link='https://www.mavcsoport.hu/node/114079', published='Thu, 24 Nov 2022 18:37:18 +0100')]\n",
      "[RSSEntry(id='114127', title='Biharkeresztesnél megindult a vonatforgalom', link='https://www.mavcsoport.hu/node/114127', published='Thu, 24 Nov 2022 18:49:35 +0100'), RSSEntry(id='114079', title='Veszprém és Hajmáskér között lassabb a közlekedés', link='https://www.mavcsoport.hu/node/114079', published='Thu, 24 Nov 2022 19:00:48 +0100')]\n",
      "[RSSEntry(id='114129', title='A késő esti Nyírség IC késéssel közlekedik', link='https://www.mavcsoport.hu/node/114129', published='Thu, 24 Nov 2022 19:43:14 +0100')]\n",
      "[]\n",
      "[]\n",
      "[RSSEntry(id='114133', title='A Hámor IC késéssel közlekedik Mezőkövesdtől', link='https://www.mavcsoport.hu/node/114133', published='Thu, 24 Nov 2022 21:06:14 +0100'), RSSEntry(id='114131', title='Tiszaalpár felső és Lakitelek között pótlóbusz a késő esti vonat helyett', link='https://www.mavcsoport.hu/node/114131', published='Thu, 24 Nov 2022 20:54:36 +0100')]\n",
      "[RSSEntry(id='114127', title='Biharkeresztesnél megindult a vonatforgalom', link='https://www.mavcsoport.hu/node/114127', published='Thu, 24 Nov 2022 21:49:18 +0100'), RSSEntry(id='114079', title='A Székesfehérvár-Szombathely vonalon helyreállhat a menetrend', link='https://www.mavcsoport.hu/node/114079', published='Thu, 24 Nov 2022 21:33:44 +0100')]\n"
     ]
    }
   ],
   "source": [
    "from time import sleep\n",
    "\n",
    "while True:\n",
    "    nw = feed.update()\n",
    "    print(nw)\n",
    "    #sleep 30 minutes\n",
    "    sleep(60*30)"
   ]
  },
  {
   "cell_type": "code",
   "execution_count": 5,
   "metadata": {},
   "outputs": [],
   "source": [
    "import pandas as pd\n",
    "\n",
    "df = pd.read_csv('first_collection.csv')\n",
    "df = df.drop_duplicates()#(subset=['published','id'])\n",
    "df.to_csv('first_collection.csv',index=False)"
   ]
  }
 ],
 "metadata": {
  "kernelspec": {
   "display_name": "Python 3.9.13 ('.venv': venv)",
   "language": "python",
   "name": "python3"
  },
  "language_info": {
   "codemirror_mode": {
    "name": "ipython",
    "version": 3
   },
   "file_extension": ".py",
   "mimetype": "text/x-python",
   "name": "python",
   "nbconvert_exporter": "python",
   "pygments_lexer": "ipython3",
   "version": "3.10.4"
  },
  "orig_nbformat": 4,
  "vscode": {
   "interpreter": {
    "hash": "1abd41b79ef10e0991df242e8887b98adb01c9fd4a085b47e196aa38e685bea9"
   }
  }
 },
 "nbformat": 4,
 "nbformat_minor": 2
}
