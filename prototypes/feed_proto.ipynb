{
 "cells": [
  {
   "cell_type": "code",
   "execution_count": 10,
   "metadata": {},
   "outputs": [],
   "source": [
    "import os, sys\n",
    "sys.path.append(os.path.dirname(os.path.realpath('../src')))\n",
    "\n",
    "from src.feed_handler.dict_storage import DictStorage\n",
    "from src.RSS_abstracts.Feed import Feed"
   ]
  },
  {
   "cell_type": "code",
   "execution_count": 11,
   "metadata": {},
   "outputs": [],
   "source": [
    "storage = DictStorage()\n",
    "dataFeed = Feed(storage=storage,link='https://www.mavcsoport.hu/mavinform/rss.xml')"
   ]
  },
  {
   "cell_type": "code",
   "execution_count": 13,
   "metadata": {},
   "outputs": [],
   "source": [
    "nw = dataFeed.update()"
   ]
  },
  {
   "cell_type": "code",
   "execution_count": 14,
   "metadata": {},
   "outputs": [
    {
     "name": "stdout",
     "output_type": "stream",
     "text": [
      "[RSSEntry(id='114069', title='Nem közlekedő martonvásári S36-os vonatok', link='https://www.mavcsoport.hu/node/114069', published='Wed, 23 Nov 2022 19:07:30 +0100'), RSSEntry(id='114065', title='A Budapest-Hatvan-Miskolc vonalon helyreáll a menetrend', link='https://www.mavcsoport.hu/node/114065', published='Wed, 23 Nov 2022 18:10:24 +0100'), RSSEntry(id='114063', title='Csütörtökön a Nagykanizsáról Zalaegerszegre 6:08-kor induló vonat helyett pótlóbusz', link='https://www.mavcsoport.hu/node/114063', published='Wed, 23 Nov 2022 17:47:14 +0100'), RSSEntry(id='114061', title='A Budapest–Békéscsaba–Lőkösháza vonalon módosított menetrend', link='https://www.mavcsoport.hu/node/114061', published='Wed, 23 Nov 2022 16:45:05 +0100'), RSSEntry(id='114059', title='Debrecen és Nagykereki között egyes vonatok helyett pótlóbusz', link='https://www.mavcsoport.hu/node/114059', published='Wed, 23 Nov 2022 16:31:39 +0100'), RSSEntry(id='114051', title='Egy váci S71-es nem közlekedik', link='https://www.mavcsoport.hu/node/114051', published='Wed, 23 Nov 2022 16:46:11 +0100'), RSSEntry(id='114037', title='Változás a Pannónia IR vonatoknál', link='https://www.mavcsoport.hu/node/114037', published='Wed, 23 Nov 2022 13:36:43 +0100'), RSSEntry(id='114029', title='Az esztergomi vonalon helyreáll a menetrend', link='https://www.mavcsoport.hu/node/114029', published='Wed, 23 Nov 2022 10:27:20 +0100'), RSSEntry(id='114023', title='Egervár-Vasboldogasszony és Zalaszentiván között újraindult a vonatközlekedés', link='https://www.mavcsoport.hu/node/114023', published='Wed, 23 Nov 2022 09:24:28 +0100'), RSSEntry(id='114021', title='A Füzesabony-Eger vonalon helyreáll a menetrend', link='https://www.mavcsoport.hu/node/114021', published='Wed, 23 Nov 2022 06:03:27 +0100')]\n"
     ]
    }
   ],
   "source": [
    "print(nw)"
   ]
  },
  {
   "cell_type": "code",
   "execution_count": 17,
   "metadata": {},
   "outputs": [
    {
     "ename": "NotImplementedError",
     "evalue": "Handle if feed is down!",
     "output_type": "error",
     "traceback": [
      "\u001b[1;31m---------------------------------------------------------------------------\u001b[0m",
      "\u001b[1;31mNotImplementedError\u001b[0m                       Traceback (most recent call last)",
      "Cell \u001b[1;32mIn [17], line 1\u001b[0m\n\u001b[1;32m----> 1\u001b[0m upd \u001b[39m=\u001b[39m dataFeed\u001b[39m.\u001b[39;49mupdate()\n\u001b[0;32m      2\u001b[0m \u001b[39mprint\u001b[39m(upd)\n",
      "File \u001b[1;32mD:\\U_targyak\\MSC\\SZAR\\MAV-Event-Horizon\\src\\RSS_abstracts\\Feed.py:24\u001b[0m, in \u001b[0;36mFeed.update\u001b[1;34m(self)\u001b[0m\n\u001b[0;32m     16\u001b[0m \u001b[39mdef\u001b[39;00m \u001b[39mupdate\u001b[39m(\u001b[39mself\u001b[39m) \u001b[39m-\u001b[39m\u001b[39m>\u001b[39m List[RSSEntry]:\n\u001b[0;32m     17\u001b[0m     \u001b[39m\"\"\"\u001b[39;00m\n\u001b[0;32m     18\u001b[0m \u001b[39m    Updates feed.\u001b[39;00m\n\u001b[0;32m     19\u001b[0m \u001b[39m    Returns\u001b[39;00m\n\u001b[1;32m   (...)\u001b[0m\n\u001b[0;32m     22\u001b[0m \u001b[39m        A list with the Entries which are new.\u001b[39;00m\n\u001b[0;32m     23\u001b[0m \u001b[39m    \"\"\"\u001b[39;00m\n\u001b[1;32m---> 24\u001b[0m     feed_dict \u001b[39m=\u001b[39m \u001b[39mself\u001b[39;49m\u001b[39m.\u001b[39;49mconsumer\u001b[39m.\u001b[39;49mfetch()\n\u001b[0;32m     25\u001b[0m     new \u001b[39m=\u001b[39m \u001b[39mlist\u001b[39m()\n\u001b[0;32m     27\u001b[0m     \u001b[39mfor\u001b[39;00m entry \u001b[39min\u001b[39;00m feed_dict\u001b[39m.\u001b[39mentries:\n",
      "File \u001b[1;32mD:\\U_targyak\\MSC\\SZAR\\MAV-Event-Horizon\\src\\feed_handler\\feed_consumer.py:16\u001b[0m, in \u001b[0;36mFeedConsumer.fetch\u001b[1;34m(self)\u001b[0m\n\u001b[0;32m     14\u001b[0m new_feed_state \u001b[39m=\u001b[39m feedparser\u001b[39m.\u001b[39mparse(\u001b[39mr\u001b[39m\u001b[39m'\u001b[39m\u001b[39mhttps://www.mavcsoport.hu/mavinform/rss.xml\u001b[39m\u001b[39m'\u001b[39m,etag\u001b[39m=\u001b[39m\u001b[39mself\u001b[39m\u001b[39m.\u001b[39m_etag)\n\u001b[0;32m     15\u001b[0m \u001b[39mif\u001b[39;00m new_feed_state\u001b[39m.\u001b[39mstatus \u001b[39m!=\u001b[39m \u001b[39m200\u001b[39m:\n\u001b[1;32m---> 16\u001b[0m     \u001b[39mraise\u001b[39;00m \u001b[39mNotImplementedError\u001b[39;00m(\u001b[39m\"\u001b[39m\u001b[39mHandle if feed is down!\u001b[39m\u001b[39m\"\u001b[39m)\n\u001b[0;32m     17\u001b[0m \u001b[39mself\u001b[39m\u001b[39m.\u001b[39m_last_known \u001b[39m=\u001b[39m new_feed_state\n\u001b[0;32m     18\u001b[0m \u001b[39mself\u001b[39m\u001b[39m.\u001b[39m_etag \u001b[39m=\u001b[39m \u001b[39mself\u001b[39m\u001b[39m.\u001b[39m_last_known\u001b[39m.\u001b[39metag\n",
      "\u001b[1;31mNotImplementedError\u001b[0m: Handle if feed is down!"
     ]
    }
   ],
   "source": [
    "upd = dataFeed.update()\n",
    "print(upd)\n"
   ]
  }
 ],
 "metadata": {
  "kernelspec": {
   "display_name": "Python 3.10.7 ('.venv': venv)",
   "language": "python",
   "name": "python3"
  },
  "language_info": {
   "codemirror_mode": {
    "name": "ipython",
    "version": 3
   },
   "file_extension": ".py",
   "mimetype": "text/x-python",
   "name": "python",
   "nbconvert_exporter": "python",
   "pygments_lexer": "ipython3",
   "version": "3.10.7"
  },
  "orig_nbformat": 4,
  "vscode": {
   "interpreter": {
    "hash": "db664d93f5faa7121f61b288f251b24b702e36eb17bcf8d0484f3d5af0656b5f"
   }
  }
 },
 "nbformat": 4,
 "nbformat_minor": 2
}
