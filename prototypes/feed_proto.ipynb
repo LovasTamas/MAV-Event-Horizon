{
 "cells": [
  {
   "cell_type": "code",
   "execution_count": 1,
   "metadata": {},
   "outputs": [],
   "source": [
    "import os, sys\n",
    "sys.path.append(os.path.dirname(os.path.realpath('../src')))\n",
    "\n",
    "from src.feed_handler.dict_storage import DictStorage\n",
    "from src.RSS_abstracts.Feed import Feed"
   ]
  },
  {
   "cell_type": "code",
   "execution_count": 2,
   "metadata": {},
   "outputs": [],
   "source": [
    "storage = DictStorage()\n",
    "dataFeed = Feed(storage=storage,link='https://www.mavcsoport.hu/mavinform/rss.xml')"
   ]
  },
  {
   "cell_type": "code",
   "execution_count": 3,
   "metadata": {},
   "outputs": [],
   "source": [
    "nw = dataFeed.update()"
   ]
  },
  {
   "cell_type": "code",
   "execution_count": 4,
   "metadata": {},
   "outputs": [
    {
     "name": "stdout",
     "output_type": "stream",
     "text": [
      "[RSSEntry(id='114069', title='Nem közlekedő martonvásári S36-os vonatok', link='https://www.mavcsoport.hu/node/114069', published='Wed, 23 Nov 2022 20:11:19 +0100'), RSSEntry(id='114065', title='A Budapest-Hatvan-Miskolc vonalon helyreáll a menetrend', link='https://www.mavcsoport.hu/node/114065', published='Wed, 23 Nov 2022 18:10:24 +0100'), RSSEntry(id='114063', title='Csütörtökön a Nagykanizsáról Zalaegerszegre 6:08-kor induló vonat helyett pótlóbusz', link='https://www.mavcsoport.hu/node/114063', published='Wed, 23 Nov 2022 17:47:14 +0100'), RSSEntry(id='114061', title='A Budapest–Békéscsaba–Lőkösháza vonalon módosított menetrend', link='https://www.mavcsoport.hu/node/114061', published='Wed, 23 Nov 2022 16:45:05 +0100'), RSSEntry(id='114059', title='Debrecen és Nagykereki között egyes vonatok helyett pótlóbusz', link='https://www.mavcsoport.hu/node/114059', published='Wed, 23 Nov 2022 16:31:39 +0100'), RSSEntry(id='114051', title='Egy váci S71-es nem közlekedik', link='https://www.mavcsoport.hu/node/114051', published='Wed, 23 Nov 2022 16:46:11 +0100'), RSSEntry(id='114037', title='Változás a Pannónia IR vonatoknál', link='https://www.mavcsoport.hu/node/114037', published='Wed, 23 Nov 2022 13:36:43 +0100'), RSSEntry(id='114029', title='Az esztergomi vonalon helyreáll a menetrend', link='https://www.mavcsoport.hu/node/114029', published='Wed, 23 Nov 2022 10:27:20 +0100'), RSSEntry(id='114023', title='Egervár-Vasboldogasszony és Zalaszentiván között újraindult a vonatközlekedés', link='https://www.mavcsoport.hu/node/114023', published='Wed, 23 Nov 2022 09:24:28 +0100'), RSSEntry(id='114021', title='A Füzesabony-Eger vonalon helyreáll a menetrend', link='https://www.mavcsoport.hu/node/114021', published='Wed, 23 Nov 2022 06:03:27 +0100')]\n"
     ]
    }
   ],
   "source": [
    "print(nw)"
   ]
  },
  {
   "cell_type": "code",
   "execution_count": 5,
   "metadata": {},
   "outputs": [
    {
     "name": "stdout",
     "output_type": "stream",
     "text": [
      "[]\n"
     ]
    }
   ],
   "source": [
    "upd = dataFeed.update()\n",
    "print(upd)\n"
   ]
  },
  {
   "cell_type": "code",
   "execution_count": 6,
   "metadata": {},
   "outputs": [],
   "source": [
    "import pandas as pd"
   ]
  },
  {
   "cell_type": "code",
   "execution_count": 7,
   "metadata": {},
   "outputs": [
    {
     "data": {
      "text/html": [
       "<div>\n",
       "<style scoped>\n",
       "    .dataframe tbody tr th:only-of-type {\n",
       "        vertical-align: middle;\n",
       "    }\n",
       "\n",
       "    .dataframe tbody tr th {\n",
       "        vertical-align: top;\n",
       "    }\n",
       "\n",
       "    .dataframe thead th {\n",
       "        text-align: right;\n",
       "    }\n",
       "</style>\n",
       "<table border=\"1\" class=\"dataframe\">\n",
       "  <thead>\n",
       "    <tr style=\"text-align: right;\">\n",
       "      <th></th>\n",
       "      <th>id</th>\n",
       "      <th>title</th>\n",
       "      <th>link</th>\n",
       "      <th>published</th>\n",
       "      <th>published_parsed</th>\n",
       "      <th>unparsed</th>\n",
       "    </tr>\n",
       "  </thead>\n",
       "  <tbody>\n",
       "    <tr>\n",
       "      <th>0</th>\n",
       "      <td>114069</td>\n",
       "      <td>Nem közlekedő martonvásári S36-os vonatok</td>\n",
       "      <td>https://www.mavcsoport.hu/node/114069</td>\n",
       "      <td>Wed, 23 Nov 2022 20:11:19 +0100</td>\n",
       "      <td>(2022, 11, 23, 19, 11, 19, 2, 327, 0)</td>\n",
       "      <td>{'title': 'Nem közlekedő martonvásári S36-os v...</td>\n",
       "    </tr>\n",
       "    <tr>\n",
       "      <th>0</th>\n",
       "      <td>114065</td>\n",
       "      <td>A Budapest-Hatvan-Miskolc vonalon helyreáll a ...</td>\n",
       "      <td>https://www.mavcsoport.hu/node/114065</td>\n",
       "      <td>Wed, 23 Nov 2022 18:10:24 +0100</td>\n",
       "      <td>(2022, 11, 23, 17, 10, 24, 2, 327, 0)</td>\n",
       "      <td>{'title': 'A Budapest-Hatvan-Miskolc vonalon h...</td>\n",
       "    </tr>\n",
       "  </tbody>\n",
       "</table>\n",
       "</div>"
      ],
      "text/plain": [
       "       id                                              title  \\\n",
       "0  114069          Nem közlekedő martonvásári S36-os vonatok   \n",
       "0  114065  A Budapest-Hatvan-Miskolc vonalon helyreáll a ...   \n",
       "\n",
       "                                    link                        published  \\\n",
       "0  https://www.mavcsoport.hu/node/114069  Wed, 23 Nov 2022 20:11:19 +0100   \n",
       "0  https://www.mavcsoport.hu/node/114065  Wed, 23 Nov 2022 18:10:24 +0100   \n",
       "\n",
       "                        published_parsed  \\\n",
       "0  (2022, 11, 23, 19, 11, 19, 2, 327, 0)   \n",
       "0  (2022, 11, 23, 17, 10, 24, 2, 327, 0)   \n",
       "\n",
       "                                            unparsed  \n",
       "0  {'title': 'Nem közlekedő martonvásári S36-os v...  \n",
       "0  {'title': 'A Budapest-Hatvan-Miskolc vonalon h...  "
      ]
     },
     "execution_count": 7,
     "metadata": {},
     "output_type": "execute_result"
    }
   ],
   "source": [
    "df = pd.DataFrame([nw[0]])\n",
    "df = pd.concat([df,pd.DataFrame([nw[1]])])\n",
    "df.head()"
   ]
  },
  {
   "cell_type": "code",
   "execution_count": 8,
   "metadata": {},
   "outputs": [],
   "source": [
    "df2 = pd.DataFrame(nw)"
   ]
  },
  {
   "cell_type": "code",
   "execution_count": 9,
   "metadata": {},
   "outputs": [
    {
     "data": {
      "text/html": [
       "<div>\n",
       "<style scoped>\n",
       "    .dataframe tbody tr th:only-of-type {\n",
       "        vertical-align: middle;\n",
       "    }\n",
       "\n",
       "    .dataframe tbody tr th {\n",
       "        vertical-align: top;\n",
       "    }\n",
       "\n",
       "    .dataframe thead th {\n",
       "        text-align: right;\n",
       "    }\n",
       "</style>\n",
       "<table border=\"1\" class=\"dataframe\">\n",
       "  <thead>\n",
       "    <tr style=\"text-align: right;\">\n",
       "      <th></th>\n",
       "      <th>id</th>\n",
       "      <th>title</th>\n",
       "      <th>link</th>\n",
       "      <th>published</th>\n",
       "      <th>published_parsed</th>\n",
       "      <th>unparsed</th>\n",
       "    </tr>\n",
       "  </thead>\n",
       "  <tbody>\n",
       "    <tr>\n",
       "      <th>0</th>\n",
       "      <td>114069</td>\n",
       "      <td>Nem közlekedő martonvásári S36-os vonatok</td>\n",
       "      <td>https://www.mavcsoport.hu/node/114069</td>\n",
       "      <td>Wed, 23 Nov 2022 20:11:19 +0100</td>\n",
       "      <td>(2022, 11, 23, 19, 11, 19, 2, 327, 0)</td>\n",
       "      <td>{'title': 'Nem közlekedő martonvásári S36-os v...</td>\n",
       "    </tr>\n",
       "    <tr>\n",
       "      <th>1</th>\n",
       "      <td>114065</td>\n",
       "      <td>A Budapest-Hatvan-Miskolc vonalon helyreáll a ...</td>\n",
       "      <td>https://www.mavcsoport.hu/node/114065</td>\n",
       "      <td>Wed, 23 Nov 2022 18:10:24 +0100</td>\n",
       "      <td>(2022, 11, 23, 17, 10, 24, 2, 327, 0)</td>\n",
       "      <td>{'title': 'A Budapest-Hatvan-Miskolc vonalon h...</td>\n",
       "    </tr>\n",
       "    <tr>\n",
       "      <th>2</th>\n",
       "      <td>114063</td>\n",
       "      <td>Csütörtökön a Nagykanizsáról Zalaegerszegre 6:...</td>\n",
       "      <td>https://www.mavcsoport.hu/node/114063</td>\n",
       "      <td>Wed, 23 Nov 2022 17:47:14 +0100</td>\n",
       "      <td>(2022, 11, 23, 16, 47, 14, 2, 327, 0)</td>\n",
       "      <td>{'title': 'Csütörtökön a Nagykanizsáról Zalaeg...</td>\n",
       "    </tr>\n",
       "    <tr>\n",
       "      <th>3</th>\n",
       "      <td>114061</td>\n",
       "      <td>A Budapest–Békéscsaba–Lőkösháza vonalon módosí...</td>\n",
       "      <td>https://www.mavcsoport.hu/node/114061</td>\n",
       "      <td>Wed, 23 Nov 2022 16:45:05 +0100</td>\n",
       "      <td>(2022, 11, 23, 15, 45, 5, 2, 327, 0)</td>\n",
       "      <td>{'title': 'A Budapest–Békéscsaba–Lőkösháza von...</td>\n",
       "    </tr>\n",
       "    <tr>\n",
       "      <th>4</th>\n",
       "      <td>114059</td>\n",
       "      <td>Debrecen és Nagykereki között egyes vonatok he...</td>\n",
       "      <td>https://www.mavcsoport.hu/node/114059</td>\n",
       "      <td>Wed, 23 Nov 2022 16:31:39 +0100</td>\n",
       "      <td>(2022, 11, 23, 15, 31, 39, 2, 327, 0)</td>\n",
       "      <td>{'title': 'Debrecen és Nagykereki között egyes...</td>\n",
       "    </tr>\n",
       "  </tbody>\n",
       "</table>\n",
       "</div>"
      ],
      "text/plain": [
       "       id                                              title  \\\n",
       "0  114069          Nem közlekedő martonvásári S36-os vonatok   \n",
       "1  114065  A Budapest-Hatvan-Miskolc vonalon helyreáll a ...   \n",
       "2  114063  Csütörtökön a Nagykanizsáról Zalaegerszegre 6:...   \n",
       "3  114061  A Budapest–Békéscsaba–Lőkösháza vonalon módosí...   \n",
       "4  114059  Debrecen és Nagykereki között egyes vonatok he...   \n",
       "\n",
       "                                    link                        published  \\\n",
       "0  https://www.mavcsoport.hu/node/114069  Wed, 23 Nov 2022 20:11:19 +0100   \n",
       "1  https://www.mavcsoport.hu/node/114065  Wed, 23 Nov 2022 18:10:24 +0100   \n",
       "2  https://www.mavcsoport.hu/node/114063  Wed, 23 Nov 2022 17:47:14 +0100   \n",
       "3  https://www.mavcsoport.hu/node/114061  Wed, 23 Nov 2022 16:45:05 +0100   \n",
       "4  https://www.mavcsoport.hu/node/114059  Wed, 23 Nov 2022 16:31:39 +0100   \n",
       "\n",
       "                        published_parsed  \\\n",
       "0  (2022, 11, 23, 19, 11, 19, 2, 327, 0)   \n",
       "1  (2022, 11, 23, 17, 10, 24, 2, 327, 0)   \n",
       "2  (2022, 11, 23, 16, 47, 14, 2, 327, 0)   \n",
       "3   (2022, 11, 23, 15, 45, 5, 2, 327, 0)   \n",
       "4  (2022, 11, 23, 15, 31, 39, 2, 327, 0)   \n",
       "\n",
       "                                            unparsed  \n",
       "0  {'title': 'Nem közlekedő martonvásári S36-os v...  \n",
       "1  {'title': 'A Budapest-Hatvan-Miskolc vonalon h...  \n",
       "2  {'title': 'Csütörtökön a Nagykanizsáról Zalaeg...  \n",
       "3  {'title': 'A Budapest–Békéscsaba–Lőkösháza von...  \n",
       "4  {'title': 'Debrecen és Nagykereki között egyes...  "
      ]
     },
     "execution_count": 9,
     "metadata": {},
     "output_type": "execute_result"
    }
   ],
   "source": [
    "df2.to_csv('test.csv',index=False)\n",
    "df2.head()"
   ]
  },
  {
   "cell_type": "code",
   "execution_count": 17,
   "metadata": {},
   "outputs": [
    {
     "name": "stderr",
     "output_type": "stream",
     "text": [
      "Exception ignored in: <function FeedStorage.__del__ at 0x000002557D406710>\n",
      "Traceback (most recent call last):\n",
      "  File \"D:\\U_targyak\\MSC\\SZAR\\MAV-Event-Horizon\\src\\feed_handler\\feed_storage.py\", line 108, in __del__\n",
      "    self.flush()\n",
      "  File \"D:\\U_targyak\\MSC\\SZAR\\MAV-Event-Horizon\\src\\feed_handler\\feed_storage.py\", line 96, in flush\n",
      "    self._store_event(self._cahce[id])\n",
      "  File \"D:\\U_targyak\\MSC\\SZAR\\MAV-Event-Horizon\\src\\feed_handler\\csv_storage.py\", line 46, in _store_event\n",
      "    df_tmp['published_datetime'] = datetime.fromtimestamp(mktime(Event.published_parsed))\n",
      "TypeError: Tuple or struct_time argument required\n"
     ]
    },
    {
     "name": "stdout",
     "output_type": "stream",
     "text": [
      "RSSEntry(id={0: 114065}, title={0: 'A Budapest-Hatvan-Miskolc vonalon helyreáll a menetrend'}, link={0: 'https://www.mavcsoport.hu/node/114065'}, published={0: 'Wed, 23 Nov 2022 18:10:24 +0100'})\n"
     ]
    }
   ],
   "source": [
    "import src.feed_handler.csv_storage as csv\n",
    "from src.RSS_abstracts.RSSEntry import RSSEntry\n",
    "from importlib import reload\n",
    "\n",
    "reload(csv)\n",
    "\n",
    "storage = csv.csvStorage('test2.csv')\n",
    "\n",
    "ids = storage._load_all_event_ids()\n",
    "\n",
    "a = storage._load_all_event_w_updates(ids[0])\n",
    "\n",
    "print(b)"
   ]
  },
  {
   "cell_type": "code",
   "execution_count": 22,
   "metadata": {},
   "outputs": [
    {
     "name": "stdout",
     "output_type": "stream",
     "text": [
      "time.struct_time(tm_year=2022, tm_mon=11, tm_mday=23, tm_hour=17, tm_min=10, tm_sec=24, tm_wday=2, tm_yday=327, tm_isdst=0)\n",
      "RSSEntry(id=114065, title='A Budapest-Hatvan-Miskolc vonalon helyreáll a menetrend', link='https://www.mavcsoport.hu/node/114065', published='Wed, 23 Nov 2022 18:10:24 +0100')\n"
     ]
    }
   ],
   "source": [
    "\n",
    "print(a.to_dict(orient='records')[0]['published_parsed'])\n",
    "b = RSSEntry.from_dict(a.to_dict(orient='records')[0])\n",
    "print(b)"
   ]
  }
 ],
 "metadata": {
  "kernelspec": {
   "display_name": "Python 3.10.7 ('.venv': venv)",
   "language": "python",
   "name": "python3"
  },
  "language_info": {
   "codemirror_mode": {
    "name": "ipython",
    "version": 3
   },
   "file_extension": ".py",
   "mimetype": "text/x-python",
   "name": "python",
   "nbconvert_exporter": "python",
   "pygments_lexer": "ipython3",
   "version": "3.10.7"
  },
  "orig_nbformat": 4,
  "vscode": {
   "interpreter": {
    "hash": "db664d93f5faa7121f61b288f251b24b702e36eb17bcf8d0484f3d5af0656b5f"
   }
  }
 },
 "nbformat": 4,
 "nbformat_minor": 2
}
