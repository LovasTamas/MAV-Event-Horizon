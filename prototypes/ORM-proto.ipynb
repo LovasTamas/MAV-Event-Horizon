{
 "cells": [
  {
   "cell_type": "code",
   "execution_count": 5,
   "metadata": {},
   "outputs": [],
   "source": [
    "import os, sys\n",
    "sys.path.append(os.path.dirname(os.path.realpath('../parser')))\n",
    "sys.path.append(os.path.dirname(os.path.realpath('../feed_handler')))"
   ]
  },
  {
   "cell_type": "code",
   "execution_count": 6,
   "metadata": {},
   "outputs": [],
   "source": [
    "from sqlalchemy import create_engine\n",
    "engine = create_engine(\"sqlite+pysqlite:///:memory:\", echo=True, future=True)"
   ]
  },
  {
   "cell_type": "code",
   "execution_count": 7,
   "metadata": {},
   "outputs": [
    {
     "name": "stdout",
     "output_type": "stream",
     "text": [
      "2022-11-09 17:29:38,844 INFO sqlalchemy.engine.Engine BEGIN (implicit)\n",
      "2022-11-09 17:29:38,845 INFO sqlalchemy.engine.Engine PRAGMA main.table_info(\"RSS_events_MAV\")\n",
      "2022-11-09 17:29:38,848 INFO sqlalchemy.engine.Engine [raw sql] ()\n",
      "2022-11-09 17:29:38,851 INFO sqlalchemy.engine.Engine PRAGMA temp.table_info(\"RSS_events_MAV\")\n",
      "2022-11-09 17:29:38,853 INFO sqlalchemy.engine.Engine [raw sql] ()\n",
      "2022-11-09 17:29:38,855 INFO sqlalchemy.engine.Engine PRAGMA main.table_info(\"RAW_events_MAV\")\n",
      "2022-11-09 17:29:38,857 INFO sqlalchemy.engine.Engine [raw sql] ()\n",
      "2022-11-09 17:29:38,860 INFO sqlalchemy.engine.Engine PRAGMA temp.table_info(\"RAW_events_MAV\")\n",
      "2022-11-09 17:29:38,867 INFO sqlalchemy.engine.Engine [raw sql] ()\n",
      "2022-11-09 17:29:38,874 INFO sqlalchemy.engine.Engine \n",
      "CREATE TABLE \"RSS_events_MAV\" (\n",
      "\tuuid BINARY(16) NOT NULL, \n",
      "\tid INTEGER NOT NULL, \n",
      "\tlast_modification DATE NOT NULL, \n",
      "\tupdate_uuid BINARY(16), \n",
      "\ttitle VARCHAR(50), \n",
      "\tPRIMARY KEY (uuid), \n",
      "\tUNIQUE (uuid)\n",
      ")\n",
      "\n",
      "\n",
      "2022-11-09 17:29:38,876 INFO sqlalchemy.engine.Engine [no key 0.00231s] ()\n",
      "2022-11-09 17:29:38,880 INFO sqlalchemy.engine.Engine \n",
      "CREATE TABLE \"RAW_events_MAV\" (\n",
      "\tid INTEGER NOT NULL, \n",
      "\tevent_uuid BINARY(16), \n",
      "\tevent_dict TEXT, \n",
      "\tPRIMARY KEY (id), \n",
      "\tFOREIGN KEY(event_uuid) REFERENCES \"RSS_events_MAV\" (uuid) ON DELETE SET NULL\n",
      ")\n",
      "\n",
      "\n",
      "2022-11-09 17:29:38,883 INFO sqlalchemy.engine.Engine [no key 0.00303s] ()\n",
      "2022-11-09 17:29:38,888 INFO sqlalchemy.engine.Engine COMMIT\n"
     ]
    }
   ],
   "source": [
    "from parser.MAV.models import DeclarativeBase\n",
    "\n",
    "DeclarativeBase.metadata.create_all(engine)"
   ]
  },
  {
   "cell_type": "code",
   "execution_count": 8,
   "metadata": {},
   "outputs": [
    {
     "name": "stdout",
     "output_type": "stream",
     "text": [
      "2022-11-09 16:10:31\n"
     ]
    }
   ],
   "source": [
    "from feed_handler.feed_consumer import FeedConsumer\n",
    "from datetime import datetime\n",
    "from time import mktime\n",
    "\n",
    "Feed = FeedConsumer()\n",
    "d = Feed.fetch()\n",
    "time_struct = d.entries[0]['published_parsed']\n",
    "date = datetime.fromtimestamp(mktime(time_struct))\n",
    "print(date)"
   ]
  },
  {
   "cell_type": "code",
   "execution_count": 9,
   "metadata": {},
   "outputs": [
    {
     "name": "stdout",
     "output_type": "stream",
     "text": [
      "2022-11-09 17:29:39,387 INFO sqlalchemy.engine.Engine BEGIN (implicit)\n",
      "2022-11-09 17:29:39,395 INFO sqlalchemy.engine.Engine INSERT INTO \"RSS_events_MAV\" (uuid, id, last_modification, update_uuid, title) VALUES (?, ?, ?, ?, ?)\n",
      "2022-11-09 17:29:39,398 INFO sqlalchemy.engine.Engine [generated in 0.00325s] (<memory at 0x000001F1544350C0>, '113333', '2022-11-09', None, 'Kimarad két délutáni S210-es vonat')\n",
      "2022-11-09 17:29:39,403 INFO sqlalchemy.engine.Engine INSERT INTO \"RAW_events_MAV\" (event_uuid, event_dict) VALUES (?, ?)\n",
      "2022-11-09 17:29:39,404 INFO sqlalchemy.engine.Engine [generated in 0.00184s] (None, '{\"title\": \"Kimarad k\\\\u00e9t d\\\\u00e9lut\\\\u00e1ni S210-es vonat\", \"title_detail\": {\"type\": \"text/plain\", \"language\": \"hu\", \"base\": \"https://www.mavcs ... (568 characters truncated) ... : \"M\\\\u00c1V.hu szerkeszt\\\\u0151s\\\\u00e9g\", \"author_detail\": {\"name\": \"M\\\\u00c1V.hu szerkeszt\\\\u0151s\\\\u00e9g\"}, \"id\": \"113333\", \"guidislink\": false}')\n",
      "2022-11-09 17:29:39,408 INFO sqlalchemy.engine.Engine COMMIT\n"
     ]
    }
   ],
   "source": [
    "from sqlalchemy.orm import Session\n",
    "from parser.MAV.feed_parser import FeedParser\n",
    "\n",
    "with Session(engine) as session:\n",
    "    entry = FeedParser.parse_entry(d.entries[0])\n",
    "    entry_dump = FeedParser.dump_entry(d.entries[0],entry.uuid)\n",
    "    session.add_all([entry,entry_dump])\n",
    "    session.commit()"
   ]
  },
  {
   "cell_type": "code",
   "execution_count": 10,
   "metadata": {},
   "outputs": [
    {
     "name": "stdout",
     "output_type": "stream",
     "text": [
      "2022-11-09 17:29:39,782 INFO sqlalchemy.engine.Engine BEGIN (implicit)\n",
      "2022-11-09 17:29:39,794 INFO sqlalchemy.engine.Engine SELECT \"RSS_events_MAV\".uuid AS \"RSS_events_MAV_uuid\", \"RSS_events_MAV\".id AS \"RSS_events_MAV_id\", \"RSS_events_MAV\".last_modification AS \"RSS_events_MAV_last_modification\", \"RSS_events_MAV\".update_uuid AS \"RSS_events_MAV_update_uuid\", \"RSS_events_MAV\".title AS \"RSS_events_MAV_title\" \n",
      "FROM \"RSS_events_MAV\"\n",
      " LIMIT ? OFFSET ?\n",
      "2022-11-09 17:29:39,796 INFO sqlalchemy.engine.Engine [generated in 0.00223s] (1, 0)\n",
      "113333\n",
      "2022-11-09 17:29:39,801 INFO sqlalchemy.engine.Engine ROLLBACK\n"
     ]
    }
   ],
   "source": [
    "from sqlalchemy import select\n",
    "from parser.MAV.models import MAVEvent\n",
    "with Session(engine) as session:\n",
    "    events = session.query(MAVEvent)\n",
    "    print(events.first().id)\n"
   ]
  }
 ],
 "metadata": {
  "kernelspec": {
   "display_name": "Python 3.10.7 ('.venv': venv)",
   "language": "python",
   "name": "python3"
  },
  "language_info": {
   "codemirror_mode": {
    "name": "ipython",
    "version": 3
   },
   "file_extension": ".py",
   "mimetype": "text/x-python",
   "name": "python",
   "nbconvert_exporter": "python",
   "pygments_lexer": "ipython3",
   "version": "3.10.7"
  },
  "orig_nbformat": 4,
  "vscode": {
   "interpreter": {
    "hash": "db664d93f5faa7121f61b288f251b24b702e36eb17bcf8d0484f3d5af0656b5f"
   }
  }
 },
 "nbformat": 4,
 "nbformat_minor": 2
}
